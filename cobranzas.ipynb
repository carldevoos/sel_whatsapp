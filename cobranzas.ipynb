{
 "cells": [
  {
   "cell_type": "code",
   "id": "initial_id",
   "metadata": {
    "collapsed": true,
    "ExecuteTime": {
     "end_time": "2024-11-21T04:01:33.433215Z",
     "start_time": "2024-11-21T04:01:33.104934Z"
    }
   },
   "source": [
    "import time\n",
    "from io import BytesIO\n",
    "from datetime import datetime\n",
    "\n",
    "import pandas as pd\n",
    "import win32clipboard\n",
    "from PIL import Image\n",
    "from selenium import webdriver\n",
    "from selenium.webdriver import Keys\n",
    "from selenium.webdriver.common.by import By"
   ],
   "outputs": [],
   "execution_count": 2
  },
  {
   "metadata": {
    "ExecuteTime": {
     "end_time": "2024-11-21T04:01:35.706166Z",
     "start_time": "2024-11-21T04:01:35.702287Z"
    }
   },
   "cell_type": "code",
   "source": [
    "options = webdriver.ChromeOptions()\n",
    "options.add_argument(\"disable-infobars\")  # Deshabilitar infobars\n",
    "options.add_argument(\"--disable-notifications\")  # Deshabilitar notifications\n",
    "\n",
    "options.add_experimental_option(\"useAutomationExtension\", False)\n",
    "options.add_experimental_option(\"excludeSwitches\", [\"enable-automation\"])"
   ],
   "id": "f8c215b78273a884",
   "outputs": [],
   "execution_count": 3
  },
  {
   "metadata": {
    "ExecuteTime": {
     "end_time": "2024-11-21T04:04:21.889904Z",
     "start_time": "2024-11-21T04:04:20.795033Z"
    }
   },
   "cell_type": "code",
   "source": [
    "cService = webdriver.ChromeService(executable_path='./drivers/chromedriver.exe')\n",
    "browser = webdriver.Chrome(service=cService)"
   ],
   "id": "f0a69f42334a5e29",
   "outputs": [],
   "execution_count": 5
  },
  {
   "metadata": {
    "ExecuteTime": {
     "end_time": "2024-11-21T04:04:28.028339Z",
     "start_time": "2024-11-21T04:04:27.044513Z"
    }
   },
   "cell_type": "code",
   "source": "browser.get(\"https://web.whatsapp.com/\")",
   "id": "395897104edc92f",
   "outputs": [],
   "execution_count": 6
  },
  {
   "metadata": {
    "ExecuteTime": {
     "end_time": "2024-11-21T04:05:09.539075Z",
     "start_time": "2024-11-21T04:05:09.535060Z"
    }
   },
   "cell_type": "code",
   "source": [
    "def paste_content(driver, el, content):\n",
    "    driver.execute_script(\n",
    "        f'''\n",
    "        const text = `{content}`;\n",
    "        const dataTransfer = new DataTransfer();\n",
    "        dataTransfer.setData('text', text);\n",
    "        const event = new ClipboardEvent('paste', {{clipboardData: dataTransfer, bubbles: true}});\n",
    "        arguments[0].dispatchEvent(event)''',\n",
    "        el)"
   ],
   "id": "1e1b0666820cc6e0",
   "outputs": [],
   "execution_count": 7
  },
  {
   "metadata": {
    "ExecuteTime": {
     "end_time": "2024-11-21T04:05:09.978546Z",
     "start_time": "2024-11-21T04:05:09.975524Z"
    }
   },
   "cell_type": "code",
   "source": [
    "def send_to_clipboard(clip_type, image_data):\n",
    "    win32clipboard.OpenClipboard()\n",
    "    win32clipboard.EmptyClipboard()\n",
    "    win32clipboard.SetClipboardData(clip_type, image_data)\n",
    "    win32clipboard.CloseClipboard()"
   ],
   "id": "305caa310639afe3",
   "outputs": [],
   "execution_count": 8
  },
  {
   "metadata": {
    "ExecuteTime": {
     "end_time": "2024-11-21T04:05:10.761144Z",
     "start_time": "2024-11-21T04:05:10.756850Z"
    }
   },
   "cell_type": "code",
   "source": [
    "def calculate_diff_dates(fecha_str):\n",
    "    # Convertir la cadena de fecha a un objeto datetime\n",
    "    fecha_dada = datetime.strptime(fecha_str, \"%d/%m/%Y\")\n",
    "    # Obtener la fecha actual\n",
    "    fecha_actual = datetime.now()\n",
    "    # Calcular la diferencia en días\n",
    "    diferencia_dias = (fecha_actual - fecha_dada).days\n",
    "    \n",
    "    # Calcular los meses y días\n",
    "    if diferencia_dias > 0:\n",
    "        meses = diferencia_dias // 30\n",
    "        dias = diferencia_dias % 30\n",
    "    else:\n",
    "        meses = 0\n",
    "        dias = diferencia_dias\n",
    "    \n",
    "    return meses, dias"
   ],
   "id": "6b29d2bf4c23af5c",
   "outputs": [],
   "execution_count": 9
  },
  {
   "metadata": {
    "ExecuteTime": {
     "end_time": "2024-11-21T04:05:11.867996Z",
     "start_time": "2024-11-21T04:05:11.864506Z"
    }
   },
   "cell_type": "code",
   "source": [
    "def generate_message_date(fecha_input):\n",
    "    meses, dias = calculate_diff_dates(fecha_input)\n",
    "    if meses == 1:\n",
    "        atraso = f\"{meses} mes\"\n",
    "    elif meses > 1:\n",
    "        atraso = f\"{meses} meses\"\n",
    "    else:\n",
    "        atraso = f\"{dias} días\"\n",
    "    return atraso"
   ],
   "id": "895167ce1dda34b",
   "outputs": [],
   "execution_count": 10
  },
  {
   "metadata": {
    "ExecuteTime": {
     "end_time": "2024-11-21T04:05:13.269761Z",
     "start_time": "2024-11-21T04:05:13.156950Z"
    }
   },
   "cell_type": "code",
   "source": [
    "## Load image to Bytes\n",
    "filepath = \"image_promo.jpeg\"\n",
    "image = Image.open(filepath)\n",
    "\n",
    "output = BytesIO()\n",
    "image.convert(\"RGB\").save(output, \"BMP\")\n",
    "image_data = output.getvalue()[14:]\n",
    "output.close()"
   ],
   "id": "17c8ff247f62ba98",
   "outputs": [],
   "execution_count": 11
  },
  {
   "metadata": {
    "ExecuteTime": {
     "end_time": "2024-11-21T04:05:14.618356Z",
     "start_time": "2024-11-21T04:05:14.614765Z"
    }
   },
   "cell_type": "code",
   "source": [
    "message_promotion = \"\"\"\n",
    "Hola {0}. Se le informa que presenta un atraso de {1} en el pago de cuenta. Su CODIGO de cliente es: **{2}**\n",
    "\"\"\""
   ],
   "id": "909908b333ce82f0",
   "outputs": [],
   "execution_count": 12
  },
  {
   "metadata": {
    "ExecuteTime": {
     "end_time": "2024-11-21T04:05:21.929366Z",
     "start_time": "2024-11-21T04:05:21.695455Z"
    }
   },
   "cell_type": "code",
   "source": [
    "## Bucle\n",
    "# Lee el archivo CSV en un DataFrame\n",
    "df = pd.read_csv(\"cobranzas.csv\")\n",
    "\n",
    "# Itera sobre cada fila del DataFrame\n",
    "for index, row in df.iterrows():\n",
    "    try:\n",
    "        print(str(row['TELEFONO']))\n",
    "        time.sleep(0.2)\n",
    "        browser.find_element(By.XPATH,\n",
    "                             \"//div[@id='app']/div/div[2]/div[3]/header/header/div/span/div/span/div/div/span\").click()\n",
    "        time.sleep(0.2)\n",
    "        browser.find_element(By.XPATH,\n",
    "                             \"//*[@id='app']/div/div[2]/div[2]/div[1]/span/div/span/div/div[1]/div[2]/div[2]/div/div\").send_keys(\n",
    "            str(row['TELEFONO']))\n",
    "        time.sleep(1)\n",
    "        \n",
    "        if len(browser.find_elements(By.XPATH, \"//*[@id='app']/div/div[2]/div[2]/div[1]/span/div/span/div/div[2]/div[2]\")) == 0:\n",
    "            browser.find_element(By.XPATH, \"\").click()\n",
    "            continue\n",
    "            \n",
    "        browser.find_element(By.XPATH, \"//*[@id='app']/div/div[2]/div[2]/div[1]/span/div/span/div/div[2]/div[2]\").click()\n",
    "        time.sleep(0.2)\n",
    "        ## Send image\n",
    "        send_to_clipboard(win32clipboard.CF_DIB, image_data)\n",
    "        browser.find_element(\n",
    "            By.XPATH,\n",
    "            \"//*[@id='main']/footer/div[1]/div/span/div/div[2]/div[1]/div/div[1]/p\").send_keys(Keys.CONTROL + \"v\")\n",
    "        time.sleep(0.3)\n",
    "        ## Send Text Promotion\n",
    "        send_text = browser.find_element(By.XPATH,\n",
    "                                         \"//*[@id='app']/div/div[2]/div[2]/div[2]/span/div/div/div/div[2]/div/div[1]/div[3]/div/div/div[2]/div[1]/div[1]/p\")\n",
    "        paste_content(browser, send_text, message_promotion.format(row['NOMBRE'], generate_message_date(row['FECHA_VENCIDO']), row['CODIGO']))\n",
    "        ## Send Message\n",
    "        browser.find_element(By.XPATH,\n",
    "                             \"//*[@id='app']/div/div[2]/div[2]/div[2]/span/div/div/div/div[2]/div/div[2]/div[2]/div/div\").click()\n",
    "        \n",
    "        ## Actualizado de csv\n",
    "        df.at[index, 'ESTADO_ENVIADO'] = 1\n",
    "    except Exception as e:\n",
    "        print(f\"Error processing row {index}: {e}\")\n",
    "        \n",
    "# Guardar el DataFrame actualizado en un nuevo archivo CSV\n",
    "df.to_csv(\"cobranzas.csv\", index=False)"
   ],
   "id": "466e73d8a5d48c5e",
   "outputs": [
    {
     "name": "stdout",
     "output_type": "stream",
     "text": [
      "51 955 427 797\n",
      "Error processing row 0: Message: no such element: Unable to locate element: {\"method\":\"xpath\",\"selector\":\"//div[@id='app']/div/div[2]/div[3]/header/header/div/span/div/span/div/div/span\"}\n",
      "  (Session info: chrome=131.0.6778.86); For documentation on this error, please visit: https://www.selenium.dev/documentation/webdriver/troubleshooting/errors#no-such-element-exception\n",
      "Stacktrace:\n",
      "\tGetHandleVerifier [0x00007FF6A8906CB5+28821]\n",
      "\t(No symbol) [0x00007FF6A8873840]\n",
      "\t(No symbol) [0x00007FF6A871578A]\n",
      "\t(No symbol) [0x00007FF6A87691BE]\n",
      "\t(No symbol) [0x00007FF6A87694AC]\n",
      "\t(No symbol) [0x00007FF6A87B2647]\n",
      "\t(No symbol) [0x00007FF6A878F33F]\n",
      "\t(No symbol) [0x00007FF6A87AF412]\n",
      "\t(No symbol) [0x00007FF6A878F0A3]\n",
      "\t(No symbol) [0x00007FF6A875A778]\n",
      "\t(No symbol) [0x00007FF6A875B8E1]\n",
      "\tGetHandleVerifier [0x00007FF6A8C3FCAD+3408013]\n",
      "\tGetHandleVerifier [0x00007FF6A8C5741F+3504127]\n",
      "\tGetHandleVerifier [0x00007FF6A8C4B5FD+3455453]\n",
      "\tGetHandleVerifier [0x00007FF6A89CBDBB+835995]\n",
      "\t(No symbol) [0x00007FF6A887EB5F]\n",
      "\t(No symbol) [0x00007FF6A887A814]\n",
      "\t(No symbol) [0x00007FF6A887A9AD]\n",
      "\t(No symbol) [0x00007FF6A886A199]\n",
      "\tBaseThreadInitThunk [0x00007FFE234F7374+20]\n",
      "\tRtlUserThreadStart [0x00007FFE2483CC91+33]\n",
      "\n"
     ]
    }
   ],
   "execution_count": 13
  },
  {
   "metadata": {},
   "cell_type": "code",
   "outputs": [],
   "execution_count": null,
   "source": "",
   "id": "d8c04e53c3cb6ce3"
  }
 ],
 "metadata": {
  "kernelspec": {
   "display_name": "Python 3",
   "language": "python",
   "name": "python3"
  },
  "language_info": {
   "codemirror_mode": {
    "name": "ipython",
    "version": 2
   },
   "file_extension": ".py",
   "mimetype": "text/x-python",
   "name": "python",
   "nbconvert_exporter": "python",
   "pygments_lexer": "ipython2",
   "version": "2.7.6"
  }
 },
 "nbformat": 4,
 "nbformat_minor": 5
}
