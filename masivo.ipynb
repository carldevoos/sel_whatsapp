{
 "cells": [
  {
   "cell_type": "code",
   "id": "initial_id",
   "metadata": {
    "collapsed": true
   },
   "source": [
    "import time\n",
    "from io import BytesIO\n",
    "\n",
    "import pandas as pd\n",
    "import win32clipboard\n",
    "from PIL import Image\n",
    "from selenium import webdriver\n",
    "from selenium.webdriver import Keys\n",
    "from selenium.webdriver.common.by import By"
   ],
   "outputs": [],
   "execution_count": null
  },
  {
   "metadata": {},
   "cell_type": "code",
   "source": [
    "options = webdriver.ChromeOptions()\n",
    "options.add_argument(\"disable-infobars\")  # Deshabilitar infobars\n",
    "options.add_argument(\"--disable-notifications\")  # Deshabilitar notifications\n",
    "\n",
    "options.add_experimental_option(\"useAutomationExtension\", False)\n",
    "options.add_experimental_option(\"excludeSwitches\", [\"enable-automation\"])"
   ],
   "id": "c860ab2dd55a35fb",
   "outputs": [],
   "execution_count": null
  },
  {
   "metadata": {},
   "cell_type": "code",
   "source": [
    "cService = webdriver.ChromeService(executable_path='./drivers/chromedriver.exe')\n",
    "browser = webdriver.Chrome(service=cService)"
   ],
   "id": "93bf46eeea9a3fd3",
   "outputs": [],
   "execution_count": null
  },
  {
   "metadata": {},
   "cell_type": "code",
   "source": [
    "browser.get(\"https://web.whatsapp.com/\")\n",
    "time.sleep(5)"
   ],
   "id": "1ba583f12c17b169",
   "outputs": [],
   "execution_count": null
  },
  {
   "metadata": {},
   "cell_type": "code",
   "source": [
    "def paste_content(driver, el, content):\n",
    "    driver.execute_script(\n",
    "        f'''\n",
    "        const text = `{content}`;\n",
    "        const dataTransfer = new DataTransfer();\n",
    "        dataTransfer.setData('text', text);\n",
    "        const event = new ClipboardEvent('paste', {{clipboardData: dataTransfer, bubbles: true}});\n",
    "        arguments[0].dispatchEvent(event)''',\n",
    "        el)"
   ],
   "id": "1d352c416e5257ff",
   "outputs": [],
   "execution_count": null
  },
  {
   "metadata": {},
   "cell_type": "code",
   "source": [
    "def send_to_clipboard(clip_type, image_data):\n",
    "    win32clipboard.OpenClipboard()\n",
    "    win32clipboard.EmptyClipboard()\n",
    "    win32clipboard.SetClipboardData(clip_type, image_data)\n",
    "    win32clipboard.CloseClipboard()"
   ],
   "id": "bed988b8d2a6dbbc",
   "outputs": [],
   "execution_count": null
  },
  {
   "metadata": {},
   "cell_type": "code",
   "source": [
    "## Load image to Bytes\n",
    "filepath = \"images/image_promo.jpg\"\n",
    "image = Image.open(filepath)\n",
    "\n",
    "output = BytesIO()\n",
    "image.convert(\"RGB\").save(output, \"BMP\")\n",
    "image_data = output.getvalue()[14:]\n",
    "output.close()"
   ],
   "id": "1c04b13d524827f4",
   "outputs": [],
   "execution_count": null
  },
  {
   "metadata": {},
   "cell_type": "code",
   "source": [
    "message_promotion = \"\"\"\n",
    "Quieres mejorar tu señal de internet  y tener 1,000 megas a solo 69.90 soles?\n",
    "Somos WOW!!! Internet 100% Fibra Óptica!  🖥️🏡\n",
    "Se parte de la comunidad que disfruta de la mayor velocidad al menor precio !! 🛜✨ 🏃‍♂️🏃‍♀️\n",
    "1️⃣ Deseo obtener 1000 Mbps + DGO TV (GRATIS por 12 meses ) + PARAMOUNT CHANEL por 3 meses  a un super precio de s/ 69.90🏃‍♂️🏃‍♀️\n",
    "\n",
    "2️⃣ Quiero  mas información 🛜✨\n",
    "📢 WOW DAME LUZ📢\n",
    "\"\"\""
   ],
   "id": "6d3260aee077a10d",
   "outputs": [],
   "execution_count": null
  },
  {
   "metadata": {},
   "cell_type": "code",
   "source": [
    "## Bucle\n",
    "# Lee el archivo CSV en un DataFrame\n",
    "df = pd.read_csv(\"data/masivo_numeros.csv\", dtype={'NUMERO': str, 'ESTADO_ENVIADO': str})\n",
    "\n",
    "# Itera sobre cada fila del DataFrame\n",
    "for index, row in df.iterrows():\n",
    "    if row['ESTADO_ENVIADO'] == \"1\" or row['ESTADO_ENVIADO'] == \"2\":\n",
    "        continue\n",
    "    try:\n",
    "        print(str(row['NUMERO']))\n",
    "        time.sleep(0.2)\n",
    "        browser.find_element(By.XPATH, \"//*[@id='app']/div/div[3]/div/div[3]/header/header/div/span/div/div[1]/button/span\").click()\n",
    "        time.sleep(0.2)\n",
    "        browser.find_element(By.XPATH, \"//*[@id='app']/div/div[3]/div/div[2]/div[1]/span/div/span/div/div[1]/div[2]/div[2]/div/div/p\").send_keys(str(row['NUMERO']))\n",
    "\n",
    "        time.sleep(1)\n",
    "        if len(browser.find_elements(By.XPATH, \"//*[@id='app']/div/div[3]/div/div[2]/div[1]/span/div/span/div/div[2]/div[2]\")) == 0:\n",
    "            browser.find_element(By.XPATH, \"//*[@id='app']/div/div[3]/div/div[2]/div[1]/span/div/span/div/header/div/div[1]/div/span\").click()\n",
    "            df.at[index, 'ESTADO_ENVIADO'] = 2\n",
    "            continue\n",
    "        browser.find_element(By.XPATH, \"//*[@id='app']/div/div[3]/div/div[2]/div[1]/span/div/span/div/div[2]/div[2]\").click()\n",
    "\n",
    "        ## Send Text Promotion\n",
    "        time.sleep(0.5)\n",
    "        send_text = browser.find_element(By.XPATH, \"//*[@id='main']/footer/div[1]/div/span/div/div[2]/div[1]/div[2]/div[1]/p\")\n",
    "        paste_content(browser, send_text, message_promotion)\n",
    "\n",
    "        ## Send image\n",
    "        time.sleep(0.2)\n",
    "        send_to_clipboard(win32clipboard.CF_DIB, image_data)\n",
    "        browser.find_element(By.XPATH, \"//*[@id='main']/footer/div[1]/div/span/div/div[2]/div[1]/div/div[1]/p\").send_keys(Keys.CONTROL + \"v\")\n",
    "\n",
    "        ## Send Message\n",
    "        time.sleep(1)\n",
    "        browser.find_element(By.XPATH, \"//*[@id='app']/div/div[3]/div/div[2]/div[2]/span/div/div/div/div[2]/div/div[2]/div[2]/div/div\").click()\n",
    "\n",
    "        ## Actualizado de csv\n",
    "        df.at[index, 'ESTADO_ENVIADO'] = 1\n",
    "    except Exception as e:\n",
    "        print(f\"Error processing row {index}: {e}\")\n",
    "\n",
    "# Guardar el DataFrame actualizado en un nuevo archivo CSV\n",
    "df.to_csv(\"data/masivo_numeros.csv\", index=False)"
   ],
   "id": "480957e45a44ddd8",
   "outputs": [],
   "execution_count": null
  },
  {
   "metadata": {},
   "cell_type": "code",
   "source": "",
   "id": "67f4096791411068",
   "outputs": [],
   "execution_count": null
  }
 ],
 "metadata": {
  "kernelspec": {
   "display_name": "Python 3",
   "language": "python",
   "name": "python3"
  },
  "language_info": {
   "codemirror_mode": {
    "name": "ipython",
    "version": 2
   },
   "file_extension": ".py",
   "mimetype": "text/x-python",
   "name": "python",
   "nbconvert_exporter": "python",
   "pygments_lexer": "ipython2",
   "version": "2.7.6"
  }
 },
 "nbformat": 4,
 "nbformat_minor": 5
}
